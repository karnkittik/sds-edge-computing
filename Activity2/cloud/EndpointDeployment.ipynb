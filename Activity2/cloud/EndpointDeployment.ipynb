{
 "cells": [
  {
   "cell_type": "markdown",
   "id": "ad35f166",
   "metadata": {},
   "source": [
    "# Install Ultralytics for YOLOv8 model"
   ]
  },
  {
   "cell_type": "code",
   "execution_count": null,
   "id": "2202aebf",
   "metadata": {},
   "outputs": [],
   "source": [
    "import os\n",
    "import subprocess\n",
    "import boto3, sagemaker\n",
    "from sagemaker import get_execution_role\n",
    "from sagemaker.pytorch import PyTorchModel\n",
    "from sagemaker.deserializers import JSONDeserializer"
   ]
  },
  {
   "cell_type": "code",
   "execution_count": null,
   "id": "eb4e9214",
   "metadata": {},
   "outputs": [],
   "source": [
    "!pip3 install ultralytics"
   ]
  },
  {
   "cell_type": "code",
   "execution_count": null,
   "id": "98f45279",
   "metadata": {},
   "outputs": [],
   "source": [
    "from ultralytics import YOLO\n",
    "\n",
    "modelName = 'yolov8x.pt'\n",
    "\n",
    "model = YOLO(modelName)\n",
    "\n",
    "# Save the model as a pytorch file\n",
    "model.save('yolov8x.pt')"
   ]
  },
  {
   "cell_type": "markdown",
   "id": "e3e9a21f",
   "metadata": {},
   "source": [
    "# Zip the code and model into `model.tar.gz`"
   ]
  },
  {
   "cell_type": "code",
   "execution_count": 18,
   "id": "e28a3a51",
   "metadata": {},
   "outputs": [],
   "source": [
    "tarFile = 'model.tar.gz'\n",
    "helperFileDir = 'code/'\n",
    "\n",
    "bashCommand = f\"tar -cpzf  {tarFile} {modelName} {helperFileDir}\"\n",
    "process = subprocess.Popen(bashCommand.split(), stdout=subprocess.PIPE)\n",
    "output, error = process.communicate()"
   ]
  },
  {
   "cell_type": "markdown",
   "id": "c4dfc638",
   "metadata": {},
   "source": [
    "# Upload the model to an S3 bucket"
   ]
  },
  {
   "cell_type": "code",
   "execution_count": null,
   "id": "6da843da",
   "metadata": {},
   "outputs": [],
   "source": [
    "# Get the default S3 bucket name\n",
    "\n",
    "sess = sagemaker.Session()\n",
    "bucket = sess.default_bucket()\n",
    "print(bucket) # the default S3 bucket allocated for this SageMaker session"
   ]
  },
  {
   "cell_type": "code",
   "execution_count": null,
   "id": "6491f703",
   "metadata": {},
   "outputs": [],
   "source": [
    "# Upload the model to S3\n",
    "\n",
    "s3 = boto3.client('s3')\n",
    "s3.upload_file(\n",
    "    Filename=tarFile,\n",
    "    Bucket=bucket,\n",
    "    Key=os.path.basename(tarFile)\n",
    ")\n",
    "\n",
    "modelUri = f\"s3://{bucket}/{tarFile}\"\n",
    "print(modelUri)"
   ]
  },
  {
   "cell_type": "markdown",
   "id": "11f23992",
   "metadata": {},
   "source": [
    "# Create the SageMaker PyTorchModel"
   ]
  },
  {
   "cell_type": "code",
   "execution_count": 21,
   "id": "4d6105ce",
   "metadata": {},
   "outputs": [],
   "source": [
    "entryPoint = 'inference.py'\n",
    "roleArn = get_execution_role()"
   ]
  },
  {
   "cell_type": "code",
   "execution_count": 22,
   "id": "c4786356",
   "metadata": {},
   "outputs": [],
   "source": [
    "model = PyTorchModel(entry_point=entryPoint,\n",
    "                     model_data=modelUri, \n",
    "                     framework_version='1.12', \n",
    "                     py_version='py38',\n",
    "                     role=roleArn,\n",
    "                     env={'TS_MAX_RESPONSE_SIZE':'20000000', 'YOLOV8_MODEL': modelName},\n",
    "                     sagemaker_session=sess)"
   ]
  },
  {
   "cell_type": "markdown",
   "id": "a35b74c3",
   "metadata": {},
   "source": [
    "# Deploy the model on SageMaker Endpoint"
   ]
  },
  {
   "cell_type": "code",
   "execution_count": 23,
   "id": "c30db1d2",
   "metadata": {},
   "outputs": [],
   "source": [
    "endpointName = \"YOLOv8\"\n",
    "instanceType = \"ml.m5.xlarge\""
   ]
  },
  {
   "cell_type": "code",
   "execution_count": null,
   "id": "87611a0b",
   "metadata": {},
   "outputs": [],
   "source": [
    "predictor = model.deploy(initial_instance_count=1, \n",
    "                         instance_type=instanceType,\n",
    "                         deserializer=JSONDeserializer(),\n",
    "                         endpoint_name=endpointName)"
   ]
  },
  {
   "cell_type": "markdown",
   "id": "597e12a2",
   "metadata": {},
   "source": [
    "# Check if Endpoint creation is successful and create the predictor"
   ]
  },
  {
   "cell_type": "code",
   "execution_count": null,
   "id": "40000808",
   "metadata": {},
   "outputs": [],
   "source": [
    "import boto3, time"
   ]
  },
  {
   "cell_type": "code",
   "execution_count": null,
   "id": "7b1b93c3",
   "metadata": {},
   "outputs": [],
   "source": [
    "sm_client = boto3.client(service_name=\"sagemaker\")\n",
    "\n",
    "endpoint_created = False\n",
    "while True:\n",
    "    response = sm_client.list_endpoints()\n",
    "    for ep in response['Endpoints']:\n",
    "        print(f\"Endpoint Status = {ep['EndpointStatus']}\")\n",
    "        if ep['EndpointName']==endpointName and ep['EndpointStatus']=='InService':\n",
    "            endpoint_created = True\n",
    "            break\n",
    "    if endpoint_created:\n",
    "        break\n",
    "    time.sleep(5)"
   ]
  },
  {
   "cell_type": "markdown",
   "id": "4d8f2c13",
   "metadata": {},
   "source": [
    "# Cleanup by removing Endpoint, Endpoint Config and Model"
   ]
  },
  {
   "cell_type": "code",
   "execution_count": null,
   "id": "dbac248c",
   "metadata": {},
   "outputs": [],
   "source": [
    "response = sm_client.describe_endpoint_config(EndpointConfigName=endpointName)\n",
    "print(response)\n",
    "endpoint_config_name = response['EndpointConfigName']\n",
    "\n",
    "# Delete Endpoint\n",
    "sm_client.delete_endpoint(EndpointName=endpointName)\n",
    "\n",
    "# Delete Endpoint Configuration\n",
    "sm_client.delete_endpoint_config(EndpointConfigName=endpoint_config_name)\n",
    "\n",
    "# Delete Model\n",
    "for prod_var in response['ProductionVariants']:\n",
    "    model_name = prod_var['ModelName']\n",
    "    sm_client.delete_model(ModelName=model_name)     "
   ]
  }
 ],
 "metadata": {
  "kernelspec": {
   "display_name": "conda_pytorch_p310",
   "language": "python",
   "name": "conda_pytorch_p310"
  },
  "language_info": {
   "codemirror_mode": {
    "name": "ipython",
    "version": 3
   },
   "file_extension": ".py",
   "mimetype": "text/x-python",
   "name": "python",
   "nbconvert_exporter": "python",
   "pygments_lexer": "ipython3",
   "version": "3.10.14"
  }
 },
 "nbformat": 4,
 "nbformat_minor": 5
}
